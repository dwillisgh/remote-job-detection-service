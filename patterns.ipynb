{
 "cells": [
  {
   "cell_type": "markdown",
   "id": "5b89a36f-88ce-4e6c-996e-ff49fe7d5444",
   "metadata": {},
   "source": [
    "## Getting started with Spacy"
   ]
  },
  {
   "cell_type": "code",
   "execution_count": 2,
   "id": "e8b129d6-92f2-48ed-8ff0-4236bbcdeb09",
   "metadata": {},
   "outputs": [
    {
     "data": {
      "text/plain": [
       "dict"
      ]
     },
     "execution_count": 2,
     "metadata": {},
     "output_type": "execute_result"
    }
   ],
   "source": [
    "positive_job_posting = {\n",
    "        \"description\": \"This is a remote position\",\n",
    "        \"title\": \"software engineer\",\n",
    "        \"jobLocationType\": \"TELECOMMUTE\",\n",
    "        \"jobLocation\": {\n",
    "            \"@type\": \"Place\",\n",
    "            \"address\": {\n",
    "                \"@type\": \"PostalAddress\",\n",
    "                \"addressLocality\": \"Remote\",\n",
    "                \"addressCountry\": \"US\"\n",
    "            }\n",
    "        }\n",
    "    }\n",
    "type(positive_job_posting)"
   ]
  },
  {
   "cell_type": "code",
   "execution_count": 3,
   "id": "5792f2ae-b011-4020-8d6b-5552f49c5db3",
   "metadata": {},
   "outputs": [
    {
     "name": "stdout",
     "output_type": "stream",
     "text": [
      "{\"timestamp\":1701795935724,\"status\":400,\"error\":\"Bad Request\",\"message\":\"[QueryController.getJob()]  Invalid JobId. JobId must be 36 characters. code=400,error={class=io.monster.jobs.jobservice.exception.JpMalformedIdException message=Invalid job id=abc}\",\"path\":\"/jobs-job-service/v1/jobs/abc\"}"
     ]
    }
   ],
   "source": [
    "!curl -X 'GET' \\\n",
    "  'https://jobs-job-service.mwwnextapppreprod-us.monster-next.com/jobs-job-service/v1/jobs/abc?format=standard' \\\n",
    "  -H 'accept: */*'"
   ]
  },
  {
   "cell_type": "markdown",
   "id": "0b123b07-b45b-4351-903a-c2771312a263",
   "metadata": {},
   "source": [
    "### load a job "
   ]
  },
  {
   "cell_type": "code",
   "execution_count": 4,
   "id": "e8be7fae-3ab4-4c78-89b4-1bab88b38298",
   "metadata": {},
   "outputs": [
    {
     "name": "stdout",
     "output_type": "stream",
     "text": [
      "Status code: 200\n",
      "<p><strong>We've recently updated our offered benefits and wages to stay competitive with the rising hiring demands. We're looking for the BEST to grow our family here at Palmen and our wages and benefits reflect that. </strong></p><ul><li><strong>Paid Time Off and flexible scheduling to ensure a healthy work/life balance</strong></li><li><strong>Creative and competitive pay plan options </strong></li><li><strong>Health, dental, and vision insurance</strong></li><li><strong>401K program with company match </strong></li></ul><p>Reporting to our Service & Parts Director, our <strong>Service Porter (Full Time or Part Time)</strong> will maintain new and used vehicle inventory appearance and performance by cleaning interior and exterior of vehicles, replenishing all vehicle fluids as needed, and replacing batteries when necessary. If you're someone who thrives on attention to detail, customer service, and a rewarding work environment, this could be the perfect job for you! </p><p> </p><p><strong>DEALERSHIP COMMITMENT:</strong></p><ul><li>Automotive Industry-leading compensation, competitive wages, optional bonus plans</li><li>Training</li><li>Health, Dental, Vision, Life, Short and Long Term Disability, and other insurance options</li><li>401k with company match</li><li>Paid time off</li><li>Discounts on vehicle purchases and parts Requirements</li></ul><p><strong>ESSENTIAL DUTIES: including but not limited to:</strong></p><ul><li>Maintain new- and used- vehicle inventory appearance and performance by cleaning interior and exterior of vehicles, replenishing all vehicle fluids as needed, and replacing batteries when necessary</li><li>Keep new- and used-vehicle lots neat and orderly, moving cars as directed by the general manager and in accordance with dealership display standards</li><li>Clean driveway and sidewalks</li><li>Drive vehicles to and from service lane, service stalls, and parking lot as needed</li><li>Make key tags for vehicles</li><li>Perform other duties as assigned</li></ul><p><strong>OUR EXPECTATIONS:</strong></p><ul><li>Valid driver's license and clean driving record</li><li>Ability to complete assigned tasks in an efficient and respectable manner</li><li>Self-starter with ability to work well as part of a team or independently</li><li>Positive attitude and can-do mentality</li></ul><p> </p><p><strong>Here at Palmen Motors we live and work in the community. We're your neighbor, your friend and ultimately your support. It is our promise to treat you like family, whether you are servicing your vehicle or purchasing a new one, we're excited you're here. Palmen Motors has been family owned and operated by the Palmen family for over 70 years and the majority of our staff have been with us for decades as well. Don't be surprised if you find that the employee you're working with has been here for 5, 10, 20 or even 30 years! Here at Palmen Motors, we take pride in the fact that we've assembled one of the best teams in the business and we're looking to grow that team! </strong></p><p> </p><p><em>We are an equal opportunity employer and prohibit discrimination/harassment without regard to race, color, religion, age, sex, national origin, disability status, genetics, protected veteran status, sexual orientation, gender identity or expression, or any other characteristic protected by federal, state or local laws.</em></p>\n"
     ]
    }
   ],
   "source": [
    "import requests\n",
    "import json\n",
    "from string import Template\n",
    "\n",
    "template = Template('https://jobs-job-service.mwwnextapppreprod-us.monster-next.com/jobs-job-service/v1/jobs/${JOBID}?format=standard')\n",
    "jobid=\"f95215de-e176-4f4b-84c3-2b7eca180aee\"\n",
    "#jobid=\"abc\"\n",
    "url=template.substitute(JOBID=jobid)\n",
    "headers = {\"Accept\": \"application/json\"}\n",
    "r = requests.get(url, headers=headers)\n",
    "print(f\"Status code: {r.status_code}\")\n",
    "if r.status_code == 200:\n",
    "    # Convert the response object to a dictionary.\n",
    "    response_dict = r.json()\n",
    "    response_string = json.dumps(response_dict, indent=4)\n",
    "    #print(response_string)\n",
    "    job_posting=response_dict['jobPosting']\n",
    "    job_description = job_posting['description']\n",
    "    print(job_description)\n",
    "else:\n",
    "    print(type(r))\n",
    "    response_dict = r.json()\n",
    "    response_string = json.dumps(response_dict, indent=4)\n",
    "    print(response_string)\n"
   ]
  },
  {
   "cell_type": "markdown",
   "id": "7b5d9110-5431-476e-b9ed-b32209080de4",
   "metadata": {},
   "source": [
    "### configure patterns"
   ]
  },
  {
   "cell_type": "code",
   "execution_count": 5,
   "id": "b4b1e549-6aec-4701-bc97-d6e0777dc9f8",
   "metadata": {},
   "outputs": [
    {
     "data": {
      "text/plain": [
       "spacy.matcher.matcher.Matcher"
      ]
     },
     "execution_count": 5,
     "metadata": {},
     "output_type": "execute_result"
    }
   ],
   "source": [
    "import spacy\n",
    "from spacy.matcher import Matcher\n",
    "from bs4 import BeautifulSoup\n",
    "import json\n",
    "\n",
    "# description nlp/matcher\n",
    "description_nlp = spacy.load('en_core_web_sm')\n",
    "description_matcher = Matcher(description_nlp.vocab)\n",
    "\n",
    "# Define name patterns for description\n",
    "description_patterns = [\n",
    "    [\n",
    "        {'LOWER': 'position'},\n",
    "        {'LEMMA': \"be\"},\n",
    "        {'LOWER': 'fully'},\n",
    "        {'LOWER': 'remote'}\n",
    "    ],  # position is fully remote\n",
    "    [{'LOWER': 'employee'},\n",
    "     {'LOWER': 'choice'},\n",
    "     {'LOWER': 'to'},\n",
    "     {'LOWER': 'work'},\n",
    "     {'LOWER': 'remote'}\n",
    "     ],  # Employee choice to work remote\n",
    "    [{'LOWER': 'work'},\n",
    "     {'LOWER': 'remote'}\n",
    "     ],  # work remote\n",
    "    [{'LOWER': 'remote'},\n",
    "     {'LOWER': 'opportunity'}\n",
    "     ],  # remote opportunity\n",
    "    [{'LOWER': 'position'},\n",
    "     {'LEMMA': \"be\", \"OP\": \"?\"},\n",
    "     {'SHAPE': 'ddd'},\n",
    "     {'ORTH': '%'},\n",
    "     {'LOWER': 'remote'}\n",
    "     ],  # position is 100% remote || position 100% remote\n",
    "    [{'LOWER': 'position'},\n",
    "     {'LEMMA': \"be\"},\n",
    "     {'LOWER': 'remote'}\n",
    "     ],  # position is remote\n",
    "    [{'LOWER': 'fully'},\n",
    "     {'LOWER': 'remote'}\n",
    "     ],  # fully remote\n",
    "    [{'POS': 'PRON'},\n",
    "     {'LEMMA': \"be\"},\n",
    "     {'POS': 'DET'},\n",
    "     {'LOWER': 'remote'},\n",
    "     {'LOWER': 'position'}\n",
    "     ],  # This is a remote position\n",
    "    [{'LOWER': 'work'},\n",
    "     {'LOWER': 'location'},\n",
    "     {'IS_PUNCT': True, \"OP\": \"*\"},\n",
    "     {'LOWER': 'remote'}\n",
    "     ],  # Work Location: Remote\n",
    "    [{'LOWER': 'job'},\n",
    "     {'LOWER': 'location'},\n",
    "     {'IS_PUNCT': True, \"OP\": \"*\"},\n",
    "     {'LOWER': 'remote'}\n",
    "     ],  # job Location: Remote\n",
    "    [{'POS': 'PRON'},\n",
    "     {'LEMMA': \"be\"},\n",
    "     {'POS': 'DET'},\n",
    "     {'SHAPE': 'ddd'},\n",
    "     {'ORTH': '%'},\n",
    "     {'LOWER': 'remote'},\n",
    "     {'LOWER': 'position'}\n",
    "     ],  # This is a 100% remote position\n",
    "    [{'LOWER': 'opportunities'},\n",
    "     {'LEMMA': \"to\"},\n",
    "     {'LOWER': 'work'},\n",
    "     {'LOWER': 'remotely'}\n",
    "     ]  # opportunities to work remotely\n",
    "\n",
    "]\n",
    "\n",
    "for pattern in description_patterns:\n",
    "    description_matcher.add('REMOTEDESCRIPTION', patterns=[pattern])\n",
    "\n",
    "type(description_matcher)"
   ]
  },
  {
   "cell_type": "markdown",
   "id": "65fe133c-002b-4769-af63-bf5c0da4291d",
   "metadata": {},
   "source": [
    "### run matcher against loaded job"
   ]
  },
  {
   "cell_type": "code",
   "execution_count": 6,
   "id": "fa05a11c-6abf-4baf-94b4-8b6c3b2c4b2d",
   "metadata": {},
   "outputs": [
    {
     "name": "stdout",
     "output_type": "stream",
     "text": [
      "[]\n"
     ]
    }
   ],
   "source": [
    "doc = description_nlp(job_description)\n",
    "matches = description_matcher(doc)\n",
    "\n",
    "descriptionmatches = []\n",
    "for match_id, start, end in matches:\n",
    "    span = doc[start:end]\n",
    "    descriptionmatches.append(span.text)\n",
    "print(descriptionmatches)"
   ]
  },
  {
   "cell_type": "code",
   "execution_count": 9,
   "id": "b6304b76-4452-480c-b50d-4665cfabbc96",
   "metadata": {},
   "outputs": [
    {
     "data": {
      "text/plain": [
       "app.model.job_posting.JobPosting"
      ]
     },
     "execution_count": 9,
     "metadata": {},
     "output_type": "execute_result"
    }
   ],
   "source": [
    "from app.model.job_posting import JobPosting\n",
    "jobposting = JobPosting(description=job_description)\n",
    "type(jobposting)"
   ]
  },
  {
   "cell_type": "code",
   "execution_count": null,
   "id": "2ec68ddc-d814-4e72-a7e8-483afcc1e73e",
   "metadata": {},
   "outputs": [],
   "source": []
  }
 ],
 "metadata": {
  "kernelspec": {
   "display_name": "Python 3 (ipykernel)",
   "language": "python",
   "name": "python3"
  },
  "language_info": {
   "codemirror_mode": {
    "name": "ipython",
    "version": 3
   },
   "file_extension": ".py",
   "mimetype": "text/x-python",
   "name": "python",
   "nbconvert_exporter": "python",
   "pygments_lexer": "ipython3",
   "version": "3.9.4"
  }
 },
 "nbformat": 4,
 "nbformat_minor": 5
}
